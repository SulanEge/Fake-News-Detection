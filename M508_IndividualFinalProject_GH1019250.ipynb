{
  "cells": [
    {
      "cell_type": "markdown",
      "source": [
        "M508 Individual Final Project\n",
        "\n",
        "Fake News Detection\n",
        "\n",
        "Student ID: GH1019250"
      ],
      "metadata": {
        "id": "fo2oH62uVT35"
      },
      "id": "fo2oH62uVT35"
    },
    {
      "cell_type": "markdown",
      "source": [
        "# Introduction\n",
        "\n",
        "Especially with the increase in number of active online users in the internet, fake news started to became so common. There are a lot of websites, and news websites which can carry wrong information through the society. In some cases this fake news can even cause death of a person. \n",
        "\n",
        "Our task is to create a NLP pipeline, which will use the fake and true news to train and give us prediction results. Our dataset has the following features:\\\n",
        "-The dataset is divided into two parts which are fake and true news.\\\n",
        "-It has the following features in text format: Title, Text and Subject.\\\n",
        "-It has date and time feature of the news.\n",
        "\n",
        "Using the given text data, we are going to create a Convolutional Neural Network(CNN) model and train it. We are going to do some experiments to find the best model.\n",
        "\n",
        "Note: You can reach the dataset from the following link: https://www.kaggle.com/datasets/clmentbisaillon/fake-and-real-news-dataset"
      ],
      "metadata": {
        "id": "LFjo-BUPVVDg"
      },
      "id": "LFjo-BUPVVDg"
    },
    {
      "cell_type": "markdown",
      "source": [
        "# Building the Pipeline\n",
        "\n",
        "## Loading Libraries\n",
        "\n",
        "To start our task we should import our libraries and functions that we are going to use building our pipeline. Besides libraries like pandas, numpy, seaborn, we are going to use some task related libraries such as NLTK and tensorflow to creat our NLP CNN model."
      ],
      "metadata": {
        "id": "FLWfIhFhZKxl"
      },
      "id": "FLWfIhFhZKxl"
    },
    {
      "cell_type": "code",
      "execution_count": 90,
      "id": "cda85e04",
      "metadata": {
        "id": "cda85e04"
      },
      "outputs": [],
      "source": [
        "import pandas as pd\n",
        "import numpy as np\n",
        "import nltk\n",
        "import string\n",
        "import re\n",
        "\n",
        "from nltk.corpus import stopwords\n",
        "from nltk.tokenize import word_tokenize\n",
        "\n",
        "from tensorflow.keras.preprocessing.text import Tokenizer\n",
        "from tensorflow.keras.preprocessing.sequence import pad_sequences\n",
        "\n",
        "from sklearn.model_selection import train_test_split\n",
        "\n",
        "from tensorflow.keras import Sequential\n",
        "from tensorflow.keras.layers import Flatten, Dense, Conv1D, MaxPool1D, Dropout, BatchNormalization, Input\n",
        "from tensorflow.keras.utils import to_categorical\n",
        "from keras.callbacks import EarlyStopping\n",
        "\n",
        "import seaborn as sns\n",
        "import matplotlib.pyplot as plt\n",
        "\n",
        "import warnings\n",
        "warnings.filterwarnings('ignore')"
      ]
    },
    {
      "cell_type": "markdown",
      "source": [
        "## Importing dataset\n",
        "\n",
        "We are connecting our server to google drive account to reach the csv files."
      ],
      "metadata": {
        "id": "9reyrN9BZwVm"
      },
      "id": "9reyrN9BZwVm"
    },
    {
      "cell_type": "code",
      "source": [
        "import os\n",
        "for dirname, _, filenames in os.walk('/kaggle/input'):\n",
        "    for filename in filenames:\n",
        "        print(os.path.join(dirname, filename))\n",
        "\n",
        "from google.colab import drive \n",
        "drive.mount('/content/drive')"
      ],
      "metadata": {
        "colab": {
          "base_uri": "https://localhost:8080/"
        },
        "id": "SYl1sEy18MNH",
        "outputId": "984ea2b7-650a-49a9-e580-8b27bb9fef2a"
      },
      "id": "SYl1sEy18MNH",
      "execution_count": 9,
      "outputs": [
        {
          "output_type": "stream",
          "name": "stdout",
          "text": [
            "Mounted at /content/drive\n"
          ]
        }
      ]
    },
    {
      "cell_type": "markdown",
      "source": [
        "Our datasets are seperated as True and Fake news. We are going to import our csv files seperately, and will merge them later on. "
      ],
      "metadata": {
        "id": "JmupX5FtZ--6"
      },
      "id": "JmupX5FtZ--6"
    },
    {
      "cell_type": "code",
      "source": [
        "df_true = pd.read_csv('/content/drive/My Drive/Colab Notebooks/True.csv')\n",
        "df_fake = pd.read_csv('/content/drive/My Drive/Colab Notebooks/Fake.csv')\n",
        "print(f'Shape of the true dataset is: {df_true.shape} \\n\\\n",
        "Shape of the fake dataset is: {df_fake.shape}')"
      ],
      "metadata": {
        "colab": {
          "base_uri": "https://localhost:8080/"
        },
        "id": "uEp04wjJ9BUo",
        "outputId": "5c0ba2b8-8e84-45ef-82af-12b427a02454"
      },
      "id": "uEp04wjJ9BUo",
      "execution_count": 15,
      "outputs": [
        {
          "output_type": "stream",
          "name": "stdout",
          "text": [
            "Shape of the true dataset is: (21417, 4) \n",
            "Shape of the fake dataset is: (23481, 4)\n"
          ]
        }
      ]
    },
    {
      "cell_type": "markdown",
      "source": [
        "We are going to check both datasets with a general look to get an idea about the shape of our data."
      ],
      "metadata": {
        "id": "7pkPNffhaZ6W"
      },
      "id": "7pkPNffhaZ6W"
    },
    {
      "cell_type": "code",
      "execution_count": 16,
      "id": "3130e158",
      "metadata": {
        "colab": {
          "base_uri": "https://localhost:8080/",
          "height": 206
        },
        "id": "3130e158",
        "outputId": "50c353fc-ef83-4eeb-ade5-601b07fb1641"
      },
      "outputs": [
        {
          "output_type": "execute_result",
          "data": {
            "text/plain": [
              "                                               title  \\\n",
              "0  As U.S. budget fight looms, Republicans flip t...   \n",
              "1  U.S. military to accept transgender recruits o...   \n",
              "2  Senior U.S. Republican senator: 'Let Mr. Muell...   \n",
              "3  FBI Russia probe helped by Australian diplomat...   \n",
              "4  Trump wants Postal Service to charge 'much mor...   \n",
              "\n",
              "                                                text       subject  \\\n",
              "0  WASHINGTON (Reuters) - The head of a conservat...  politicsNews   \n",
              "1  WASHINGTON (Reuters) - Transgender people will...  politicsNews   \n",
              "2  WASHINGTON (Reuters) - The special counsel inv...  politicsNews   \n",
              "3  WASHINGTON (Reuters) - Trump campaign adviser ...  politicsNews   \n",
              "4  SEATTLE/WASHINGTON (Reuters) - President Donal...  politicsNews   \n",
              "\n",
              "                 date  \n",
              "0  December 31, 2017   \n",
              "1  December 29, 2017   \n",
              "2  December 31, 2017   \n",
              "3  December 30, 2017   \n",
              "4  December 29, 2017   "
            ],
            "text/html": [
              "\n",
              "  <div id=\"df-3f27384e-a3f0-46e8-84b2-85c042bdbab3\">\n",
              "    <div class=\"colab-df-container\">\n",
              "      <div>\n",
              "<style scoped>\n",
              "    .dataframe tbody tr th:only-of-type {\n",
              "        vertical-align: middle;\n",
              "    }\n",
              "\n",
              "    .dataframe tbody tr th {\n",
              "        vertical-align: top;\n",
              "    }\n",
              "\n",
              "    .dataframe thead th {\n",
              "        text-align: right;\n",
              "    }\n",
              "</style>\n",
              "<table border=\"1\" class=\"dataframe\">\n",
              "  <thead>\n",
              "    <tr style=\"text-align: right;\">\n",
              "      <th></th>\n",
              "      <th>title</th>\n",
              "      <th>text</th>\n",
              "      <th>subject</th>\n",
              "      <th>date</th>\n",
              "    </tr>\n",
              "  </thead>\n",
              "  <tbody>\n",
              "    <tr>\n",
              "      <th>0</th>\n",
              "      <td>As U.S. budget fight looms, Republicans flip t...</td>\n",
              "      <td>WASHINGTON (Reuters) - The head of a conservat...</td>\n",
              "      <td>politicsNews</td>\n",
              "      <td>December 31, 2017</td>\n",
              "    </tr>\n",
              "    <tr>\n",
              "      <th>1</th>\n",
              "      <td>U.S. military to accept transgender recruits o...</td>\n",
              "      <td>WASHINGTON (Reuters) - Transgender people will...</td>\n",
              "      <td>politicsNews</td>\n",
              "      <td>December 29, 2017</td>\n",
              "    </tr>\n",
              "    <tr>\n",
              "      <th>2</th>\n",
              "      <td>Senior U.S. Republican senator: 'Let Mr. Muell...</td>\n",
              "      <td>WASHINGTON (Reuters) - The special counsel inv...</td>\n",
              "      <td>politicsNews</td>\n",
              "      <td>December 31, 2017</td>\n",
              "    </tr>\n",
              "    <tr>\n",
              "      <th>3</th>\n",
              "      <td>FBI Russia probe helped by Australian diplomat...</td>\n",
              "      <td>WASHINGTON (Reuters) - Trump campaign adviser ...</td>\n",
              "      <td>politicsNews</td>\n",
              "      <td>December 30, 2017</td>\n",
              "    </tr>\n",
              "    <tr>\n",
              "      <th>4</th>\n",
              "      <td>Trump wants Postal Service to charge 'much mor...</td>\n",
              "      <td>SEATTLE/WASHINGTON (Reuters) - President Donal...</td>\n",
              "      <td>politicsNews</td>\n",
              "      <td>December 29, 2017</td>\n",
              "    </tr>\n",
              "  </tbody>\n",
              "</table>\n",
              "</div>\n",
              "      <button class=\"colab-df-convert\" onclick=\"convertToInteractive('df-3f27384e-a3f0-46e8-84b2-85c042bdbab3')\"\n",
              "              title=\"Convert this dataframe to an interactive table.\"\n",
              "              style=\"display:none;\">\n",
              "        \n",
              "  <svg xmlns=\"http://www.w3.org/2000/svg\" height=\"24px\"viewBox=\"0 0 24 24\"\n",
              "       width=\"24px\">\n",
              "    <path d=\"M0 0h24v24H0V0z\" fill=\"none\"/>\n",
              "    <path d=\"M18.56 5.44l.94 2.06.94-2.06 2.06-.94-2.06-.94-.94-2.06-.94 2.06-2.06.94zm-11 1L8.5 8.5l.94-2.06 2.06-.94-2.06-.94L8.5 2.5l-.94 2.06-2.06.94zm10 10l.94 2.06.94-2.06 2.06-.94-2.06-.94-.94-2.06-.94 2.06-2.06.94z\"/><path d=\"M17.41 7.96l-1.37-1.37c-.4-.4-.92-.59-1.43-.59-.52 0-1.04.2-1.43.59L10.3 9.45l-7.72 7.72c-.78.78-.78 2.05 0 2.83L4 21.41c.39.39.9.59 1.41.59.51 0 1.02-.2 1.41-.59l7.78-7.78 2.81-2.81c.8-.78.8-2.07 0-2.86zM5.41 20L4 18.59l7.72-7.72 1.47 1.35L5.41 20z\"/>\n",
              "  </svg>\n",
              "      </button>\n",
              "      \n",
              "  <style>\n",
              "    .colab-df-container {\n",
              "      display:flex;\n",
              "      flex-wrap:wrap;\n",
              "      gap: 12px;\n",
              "    }\n",
              "\n",
              "    .colab-df-convert {\n",
              "      background-color: #E8F0FE;\n",
              "      border: none;\n",
              "      border-radius: 50%;\n",
              "      cursor: pointer;\n",
              "      display: none;\n",
              "      fill: #1967D2;\n",
              "      height: 32px;\n",
              "      padding: 0 0 0 0;\n",
              "      width: 32px;\n",
              "    }\n",
              "\n",
              "    .colab-df-convert:hover {\n",
              "      background-color: #E2EBFA;\n",
              "      box-shadow: 0px 1px 2px rgba(60, 64, 67, 0.3), 0px 1px 3px 1px rgba(60, 64, 67, 0.15);\n",
              "      fill: #174EA6;\n",
              "    }\n",
              "\n",
              "    [theme=dark] .colab-df-convert {\n",
              "      background-color: #3B4455;\n",
              "      fill: #D2E3FC;\n",
              "    }\n",
              "\n",
              "    [theme=dark] .colab-df-convert:hover {\n",
              "      background-color: #434B5C;\n",
              "      box-shadow: 0px 1px 3px 1px rgba(0, 0, 0, 0.15);\n",
              "      filter: drop-shadow(0px 1px 2px rgba(0, 0, 0, 0.3));\n",
              "      fill: #FFFFFF;\n",
              "    }\n",
              "  </style>\n",
              "\n",
              "      <script>\n",
              "        const buttonEl =\n",
              "          document.querySelector('#df-3f27384e-a3f0-46e8-84b2-85c042bdbab3 button.colab-df-convert');\n",
              "        buttonEl.style.display =\n",
              "          google.colab.kernel.accessAllowed ? 'block' : 'none';\n",
              "\n",
              "        async function convertToInteractive(key) {\n",
              "          const element = document.querySelector('#df-3f27384e-a3f0-46e8-84b2-85c042bdbab3');\n",
              "          const dataTable =\n",
              "            await google.colab.kernel.invokeFunction('convertToInteractive',\n",
              "                                                     [key], {});\n",
              "          if (!dataTable) return;\n",
              "\n",
              "          const docLinkHtml = 'Like what you see? Visit the ' +\n",
              "            '<a target=\"_blank\" href=https://colab.research.google.com/notebooks/data_table.ipynb>data table notebook</a>'\n",
              "            + ' to learn more about interactive tables.';\n",
              "          element.innerHTML = '';\n",
              "          dataTable['output_type'] = 'display_data';\n",
              "          await google.colab.output.renderOutput(dataTable, element);\n",
              "          const docLink = document.createElement('div');\n",
              "          docLink.innerHTML = docLinkHtml;\n",
              "          element.appendChild(docLink);\n",
              "        }\n",
              "      </script>\n",
              "    </div>\n",
              "  </div>\n",
              "  "
            ]
          },
          "metadata": {},
          "execution_count": 16
        }
      ],
      "source": [
        "df_true.head()"
      ]
    },
    {
      "cell_type": "code",
      "execution_count": 17,
      "id": "0024fdf0",
      "metadata": {
        "colab": {
          "base_uri": "https://localhost:8080/",
          "height": 206
        },
        "id": "0024fdf0",
        "outputId": "e8d91f3f-e460-41f0-b69b-630cab51f2d2"
      },
      "outputs": [
        {
          "output_type": "execute_result",
          "data": {
            "text/plain": [
              "                                               title  \\\n",
              "0   Donald Trump Sends Out Embarrassing New Year’...   \n",
              "1   Drunk Bragging Trump Staffer Started Russian ...   \n",
              "2   Sheriff David Clarke Becomes An Internet Joke...   \n",
              "3   Trump Is So Obsessed He Even Has Obama’s Name...   \n",
              "4   Pope Francis Just Called Out Donald Trump Dur...   \n",
              "\n",
              "                                                text subject  \\\n",
              "0  Donald Trump just couldn t wish all Americans ...    News   \n",
              "1  House Intelligence Committee Chairman Devin Nu...    News   \n",
              "2  On Friday, it was revealed that former Milwauk...    News   \n",
              "3  On Christmas day, Donald Trump announced that ...    News   \n",
              "4  Pope Francis used his annual Christmas Day mes...    News   \n",
              "\n",
              "                date  \n",
              "0  December 31, 2017  \n",
              "1  December 31, 2017  \n",
              "2  December 30, 2017  \n",
              "3  December 29, 2017  \n",
              "4  December 25, 2017  "
            ],
            "text/html": [
              "\n",
              "  <div id=\"df-961876f9-b6c7-4fc3-8585-e9821d060731\">\n",
              "    <div class=\"colab-df-container\">\n",
              "      <div>\n",
              "<style scoped>\n",
              "    .dataframe tbody tr th:only-of-type {\n",
              "        vertical-align: middle;\n",
              "    }\n",
              "\n",
              "    .dataframe tbody tr th {\n",
              "        vertical-align: top;\n",
              "    }\n",
              "\n",
              "    .dataframe thead th {\n",
              "        text-align: right;\n",
              "    }\n",
              "</style>\n",
              "<table border=\"1\" class=\"dataframe\">\n",
              "  <thead>\n",
              "    <tr style=\"text-align: right;\">\n",
              "      <th></th>\n",
              "      <th>title</th>\n",
              "      <th>text</th>\n",
              "      <th>subject</th>\n",
              "      <th>date</th>\n",
              "    </tr>\n",
              "  </thead>\n",
              "  <tbody>\n",
              "    <tr>\n",
              "      <th>0</th>\n",
              "      <td>Donald Trump Sends Out Embarrassing New Year’...</td>\n",
              "      <td>Donald Trump just couldn t wish all Americans ...</td>\n",
              "      <td>News</td>\n",
              "      <td>December 31, 2017</td>\n",
              "    </tr>\n",
              "    <tr>\n",
              "      <th>1</th>\n",
              "      <td>Drunk Bragging Trump Staffer Started Russian ...</td>\n",
              "      <td>House Intelligence Committee Chairman Devin Nu...</td>\n",
              "      <td>News</td>\n",
              "      <td>December 31, 2017</td>\n",
              "    </tr>\n",
              "    <tr>\n",
              "      <th>2</th>\n",
              "      <td>Sheriff David Clarke Becomes An Internet Joke...</td>\n",
              "      <td>On Friday, it was revealed that former Milwauk...</td>\n",
              "      <td>News</td>\n",
              "      <td>December 30, 2017</td>\n",
              "    </tr>\n",
              "    <tr>\n",
              "      <th>3</th>\n",
              "      <td>Trump Is So Obsessed He Even Has Obama’s Name...</td>\n",
              "      <td>On Christmas day, Donald Trump announced that ...</td>\n",
              "      <td>News</td>\n",
              "      <td>December 29, 2017</td>\n",
              "    </tr>\n",
              "    <tr>\n",
              "      <th>4</th>\n",
              "      <td>Pope Francis Just Called Out Donald Trump Dur...</td>\n",
              "      <td>Pope Francis used his annual Christmas Day mes...</td>\n",
              "      <td>News</td>\n",
              "      <td>December 25, 2017</td>\n",
              "    </tr>\n",
              "  </tbody>\n",
              "</table>\n",
              "</div>\n",
              "      <button class=\"colab-df-convert\" onclick=\"convertToInteractive('df-961876f9-b6c7-4fc3-8585-e9821d060731')\"\n",
              "              title=\"Convert this dataframe to an interactive table.\"\n",
              "              style=\"display:none;\">\n",
              "        \n",
              "  <svg xmlns=\"http://www.w3.org/2000/svg\" height=\"24px\"viewBox=\"0 0 24 24\"\n",
              "       width=\"24px\">\n",
              "    <path d=\"M0 0h24v24H0V0z\" fill=\"none\"/>\n",
              "    <path d=\"M18.56 5.44l.94 2.06.94-2.06 2.06-.94-2.06-.94-.94-2.06-.94 2.06-2.06.94zm-11 1L8.5 8.5l.94-2.06 2.06-.94-2.06-.94L8.5 2.5l-.94 2.06-2.06.94zm10 10l.94 2.06.94-2.06 2.06-.94-2.06-.94-.94-2.06-.94 2.06-2.06.94z\"/><path d=\"M17.41 7.96l-1.37-1.37c-.4-.4-.92-.59-1.43-.59-.52 0-1.04.2-1.43.59L10.3 9.45l-7.72 7.72c-.78.78-.78 2.05 0 2.83L4 21.41c.39.39.9.59 1.41.59.51 0 1.02-.2 1.41-.59l7.78-7.78 2.81-2.81c.8-.78.8-2.07 0-2.86zM5.41 20L4 18.59l7.72-7.72 1.47 1.35L5.41 20z\"/>\n",
              "  </svg>\n",
              "      </button>\n",
              "      \n",
              "  <style>\n",
              "    .colab-df-container {\n",
              "      display:flex;\n",
              "      flex-wrap:wrap;\n",
              "      gap: 12px;\n",
              "    }\n",
              "\n",
              "    .colab-df-convert {\n",
              "      background-color: #E8F0FE;\n",
              "      border: none;\n",
              "      border-radius: 50%;\n",
              "      cursor: pointer;\n",
              "      display: none;\n",
              "      fill: #1967D2;\n",
              "      height: 32px;\n",
              "      padding: 0 0 0 0;\n",
              "      width: 32px;\n",
              "    }\n",
              "\n",
              "    .colab-df-convert:hover {\n",
              "      background-color: #E2EBFA;\n",
              "      box-shadow: 0px 1px 2px rgba(60, 64, 67, 0.3), 0px 1px 3px 1px rgba(60, 64, 67, 0.15);\n",
              "      fill: #174EA6;\n",
              "    }\n",
              "\n",
              "    [theme=dark] .colab-df-convert {\n",
              "      background-color: #3B4455;\n",
              "      fill: #D2E3FC;\n",
              "    }\n",
              "\n",
              "    [theme=dark] .colab-df-convert:hover {\n",
              "      background-color: #434B5C;\n",
              "      box-shadow: 0px 1px 3px 1px rgba(0, 0, 0, 0.15);\n",
              "      filter: drop-shadow(0px 1px 2px rgba(0, 0, 0, 0.3));\n",
              "      fill: #FFFFFF;\n",
              "    }\n",
              "  </style>\n",
              "\n",
              "      <script>\n",
              "        const buttonEl =\n",
              "          document.querySelector('#df-961876f9-b6c7-4fc3-8585-e9821d060731 button.colab-df-convert');\n",
              "        buttonEl.style.display =\n",
              "          google.colab.kernel.accessAllowed ? 'block' : 'none';\n",
              "\n",
              "        async function convertToInteractive(key) {\n",
              "          const element = document.querySelector('#df-961876f9-b6c7-4fc3-8585-e9821d060731');\n",
              "          const dataTable =\n",
              "            await google.colab.kernel.invokeFunction('convertToInteractive',\n",
              "                                                     [key], {});\n",
              "          if (!dataTable) return;\n",
              "\n",
              "          const docLinkHtml = 'Like what you see? Visit the ' +\n",
              "            '<a target=\"_blank\" href=https://colab.research.google.com/notebooks/data_table.ipynb>data table notebook</a>'\n",
              "            + ' to learn more about interactive tables.';\n",
              "          element.innerHTML = '';\n",
              "          dataTable['output_type'] = 'display_data';\n",
              "          await google.colab.output.renderOutput(dataTable, element);\n",
              "          const docLink = document.createElement('div');\n",
              "          docLink.innerHTML = docLinkHtml;\n",
              "          element.appendChild(docLink);\n",
              "        }\n",
              "      </script>\n",
              "    </div>\n",
              "  </div>\n",
              "  "
            ]
          },
          "metadata": {},
          "execution_count": 17
        }
      ],
      "source": [
        "df_fake.head()"
      ]
    },
    {
      "cell_type": "markdown",
      "source": [
        "Our both fake and true news datasets has the same construction. We can merge them together. Before merging them, we have to label them to keep track of the target. For this purpose, we are going to create label feature in both datasets, filling true news with 1 and fake news with 0."
      ],
      "metadata": {
        "id": "ckQdO1-5agYr"
      },
      "id": "ckQdO1-5agYr"
    },
    {
      "cell_type": "code",
      "execution_count": 18,
      "id": "2db983cf",
      "metadata": {
        "id": "2db983cf"
      },
      "outputs": [],
      "source": [
        "df_true['label'] = 1\n",
        "df_fake['label'] = 0"
      ]
    },
    {
      "cell_type": "markdown",
      "source": [
        "Now we are going to concatenate our true and fake datasets, to have a single dataset."
      ],
      "metadata": {
        "id": "xPKCMqgfa8ad"
      },
      "id": "xPKCMqgfa8ad"
    },
    {
      "cell_type": "code",
      "execution_count": 87,
      "id": "c719ad39",
      "metadata": {
        "colab": {
          "base_uri": "https://localhost:8080/",
          "height": 206
        },
        "id": "c719ad39",
        "outputId": "e784801b-a2ff-430f-8681-62c763e4eebd"
      },
      "outputs": [
        {
          "output_type": "execute_result",
          "data": {
            "text/plain": [
              "                                               title  \\\n",
              "0  As U.S. budget fight looms, Republicans flip t...   \n",
              "1  U.S. military to accept transgender recruits o...   \n",
              "2  Senior U.S. Republican senator: 'Let Mr. Muell...   \n",
              "3  FBI Russia probe helped by Australian diplomat...   \n",
              "4  Trump wants Postal Service to charge 'much mor...   \n",
              "\n",
              "                                                text       subject  \\\n",
              "0  WASHINGTON (Reuters) - The head of a conservat...  politicsNews   \n",
              "1  WASHINGTON (Reuters) - Transgender people will...  politicsNews   \n",
              "2  WASHINGTON (Reuters) - The special counsel inv...  politicsNews   \n",
              "3  WASHINGTON (Reuters) - Trump campaign adviser ...  politicsNews   \n",
              "4  SEATTLE/WASHINGTON (Reuters) - President Donal...  politicsNews   \n",
              "\n",
              "                 date  label  \n",
              "0  December 31, 2017       1  \n",
              "1  December 29, 2017       1  \n",
              "2  December 31, 2017       1  \n",
              "3  December 30, 2017       1  \n",
              "4  December 29, 2017       1  "
            ],
            "text/html": [
              "\n",
              "  <div id=\"df-a59c58d1-c203-46ca-a34d-81dc1df523c1\">\n",
              "    <div class=\"colab-df-container\">\n",
              "      <div>\n",
              "<style scoped>\n",
              "    .dataframe tbody tr th:only-of-type {\n",
              "        vertical-align: middle;\n",
              "    }\n",
              "\n",
              "    .dataframe tbody tr th {\n",
              "        vertical-align: top;\n",
              "    }\n",
              "\n",
              "    .dataframe thead th {\n",
              "        text-align: right;\n",
              "    }\n",
              "</style>\n",
              "<table border=\"1\" class=\"dataframe\">\n",
              "  <thead>\n",
              "    <tr style=\"text-align: right;\">\n",
              "      <th></th>\n",
              "      <th>title</th>\n",
              "      <th>text</th>\n",
              "      <th>subject</th>\n",
              "      <th>date</th>\n",
              "      <th>label</th>\n",
              "    </tr>\n",
              "  </thead>\n",
              "  <tbody>\n",
              "    <tr>\n",
              "      <th>0</th>\n",
              "      <td>As U.S. budget fight looms, Republicans flip t...</td>\n",
              "      <td>WASHINGTON (Reuters) - The head of a conservat...</td>\n",
              "      <td>politicsNews</td>\n",
              "      <td>December 31, 2017</td>\n",
              "      <td>1</td>\n",
              "    </tr>\n",
              "    <tr>\n",
              "      <th>1</th>\n",
              "      <td>U.S. military to accept transgender recruits o...</td>\n",
              "      <td>WASHINGTON (Reuters) - Transgender people will...</td>\n",
              "      <td>politicsNews</td>\n",
              "      <td>December 29, 2017</td>\n",
              "      <td>1</td>\n",
              "    </tr>\n",
              "    <tr>\n",
              "      <th>2</th>\n",
              "      <td>Senior U.S. Republican senator: 'Let Mr. Muell...</td>\n",
              "      <td>WASHINGTON (Reuters) - The special counsel inv...</td>\n",
              "      <td>politicsNews</td>\n",
              "      <td>December 31, 2017</td>\n",
              "      <td>1</td>\n",
              "    </tr>\n",
              "    <tr>\n",
              "      <th>3</th>\n",
              "      <td>FBI Russia probe helped by Australian diplomat...</td>\n",
              "      <td>WASHINGTON (Reuters) - Trump campaign adviser ...</td>\n",
              "      <td>politicsNews</td>\n",
              "      <td>December 30, 2017</td>\n",
              "      <td>1</td>\n",
              "    </tr>\n",
              "    <tr>\n",
              "      <th>4</th>\n",
              "      <td>Trump wants Postal Service to charge 'much mor...</td>\n",
              "      <td>SEATTLE/WASHINGTON (Reuters) - President Donal...</td>\n",
              "      <td>politicsNews</td>\n",
              "      <td>December 29, 2017</td>\n",
              "      <td>1</td>\n",
              "    </tr>\n",
              "  </tbody>\n",
              "</table>\n",
              "</div>\n",
              "      <button class=\"colab-df-convert\" onclick=\"convertToInteractive('df-a59c58d1-c203-46ca-a34d-81dc1df523c1')\"\n",
              "              title=\"Convert this dataframe to an interactive table.\"\n",
              "              style=\"display:none;\">\n",
              "        \n",
              "  <svg xmlns=\"http://www.w3.org/2000/svg\" height=\"24px\"viewBox=\"0 0 24 24\"\n",
              "       width=\"24px\">\n",
              "    <path d=\"M0 0h24v24H0V0z\" fill=\"none\"/>\n",
              "    <path d=\"M18.56 5.44l.94 2.06.94-2.06 2.06-.94-2.06-.94-.94-2.06-.94 2.06-2.06.94zm-11 1L8.5 8.5l.94-2.06 2.06-.94-2.06-.94L8.5 2.5l-.94 2.06-2.06.94zm10 10l.94 2.06.94-2.06 2.06-.94-2.06-.94-.94-2.06-.94 2.06-2.06.94z\"/><path d=\"M17.41 7.96l-1.37-1.37c-.4-.4-.92-.59-1.43-.59-.52 0-1.04.2-1.43.59L10.3 9.45l-7.72 7.72c-.78.78-.78 2.05 0 2.83L4 21.41c.39.39.9.59 1.41.59.51 0 1.02-.2 1.41-.59l7.78-7.78 2.81-2.81c.8-.78.8-2.07 0-2.86zM5.41 20L4 18.59l7.72-7.72 1.47 1.35L5.41 20z\"/>\n",
              "  </svg>\n",
              "      </button>\n",
              "      \n",
              "  <style>\n",
              "    .colab-df-container {\n",
              "      display:flex;\n",
              "      flex-wrap:wrap;\n",
              "      gap: 12px;\n",
              "    }\n",
              "\n",
              "    .colab-df-convert {\n",
              "      background-color: #E8F0FE;\n",
              "      border: none;\n",
              "      border-radius: 50%;\n",
              "      cursor: pointer;\n",
              "      display: none;\n",
              "      fill: #1967D2;\n",
              "      height: 32px;\n",
              "      padding: 0 0 0 0;\n",
              "      width: 32px;\n",
              "    }\n",
              "\n",
              "    .colab-df-convert:hover {\n",
              "      background-color: #E2EBFA;\n",
              "      box-shadow: 0px 1px 2px rgba(60, 64, 67, 0.3), 0px 1px 3px 1px rgba(60, 64, 67, 0.15);\n",
              "      fill: #174EA6;\n",
              "    }\n",
              "\n",
              "    [theme=dark] .colab-df-convert {\n",
              "      background-color: #3B4455;\n",
              "      fill: #D2E3FC;\n",
              "    }\n",
              "\n",
              "    [theme=dark] .colab-df-convert:hover {\n",
              "      background-color: #434B5C;\n",
              "      box-shadow: 0px 1px 3px 1px rgba(0, 0, 0, 0.15);\n",
              "      filter: drop-shadow(0px 1px 2px rgba(0, 0, 0, 0.3));\n",
              "      fill: #FFFFFF;\n",
              "    }\n",
              "  </style>\n",
              "\n",
              "      <script>\n",
              "        const buttonEl =\n",
              "          document.querySelector('#df-a59c58d1-c203-46ca-a34d-81dc1df523c1 button.colab-df-convert');\n",
              "        buttonEl.style.display =\n",
              "          google.colab.kernel.accessAllowed ? 'block' : 'none';\n",
              "\n",
              "        async function convertToInteractive(key) {\n",
              "          const element = document.querySelector('#df-a59c58d1-c203-46ca-a34d-81dc1df523c1');\n",
              "          const dataTable =\n",
              "            await google.colab.kernel.invokeFunction('convertToInteractive',\n",
              "                                                     [key], {});\n",
              "          if (!dataTable) return;\n",
              "\n",
              "          const docLinkHtml = 'Like what you see? Visit the ' +\n",
              "            '<a target=\"_blank\" href=https://colab.research.google.com/notebooks/data_table.ipynb>data table notebook</a>'\n",
              "            + ' to learn more about interactive tables.';\n",
              "          element.innerHTML = '';\n",
              "          dataTable['output_type'] = 'display_data';\n",
              "          await google.colab.output.renderOutput(dataTable, element);\n",
              "          const docLink = document.createElement('div');\n",
              "          docLink.innerHTML = docLinkHtml;\n",
              "          element.appendChild(docLink);\n",
              "        }\n",
              "      </script>\n",
              "    </div>\n",
              "  </div>\n",
              "  "
            ]
          },
          "metadata": {},
          "execution_count": 87
        }
      ],
      "source": [
        "df = pd.concat([df_true, df_fake])\n",
        "df.head()"
      ]
    },
    {
      "cell_type": "markdown",
      "source": [
        "## Target Label\n",
        "\n",
        "In our task target label is 1 and 0, which represents true and fake news respectively. We have the target label column in our dataset called as label. \n",
        "\n",
        "Below you can find a graphical representation of the occurences of both labels."
      ],
      "metadata": {
        "id": "2sTB4HTMbYD4"
      },
      "id": "2sTB4HTMbYD4"
    },
    {
      "cell_type": "code",
      "execution_count": 20,
      "id": "14f0f5a4",
      "metadata": {
        "colab": {
          "base_uri": "https://localhost:8080/",
          "height": 502
        },
        "id": "14f0f5a4",
        "outputId": "7bdf98ac-4c90-4c52-f2e2-d97879ebe4cd"
      },
      "outputs": [
        {
          "output_type": "display_data",
          "data": {
            "text/plain": [
              "<Figure size 576x576 with 1 Axes>"
            ],
            "image/png": "[encoded data removed]"
          },
          "metadata": {}
        }
      ],
      "source": [
        "sns.set_theme(style=\"dark\")\n",
        "sns.set(rc={'figure.figsize':(8,8)})\n",
        "ax = sns.countplot(x=\"label\", data=df)\n",
        "for p in ax.patches:\n",
        "   ax.annotate('{:.0f}'.format(p.get_height()), (p.get_x()+0.3, p.get_height()+0.01))"
      ]
    },
    {
      "cell_type": "markdown",
      "source": [
        "Our datasets are balanced enough. We don't need to over or undersampling. \n",
        "\n",
        "In this step, we are going to check for null values in our dataset."
      ],
      "metadata": {
        "id": "4KxdTDRGb8rz"
      },
      "id": "4KxdTDRGb8rz"
    },
    {
      "cell_type": "code",
      "execution_count": 21,
      "id": "b037c3cb",
      "metadata": {
        "colab": {
          "base_uri": "https://localhost:8080/"
        },
        "id": "b037c3cb",
        "outputId": "66c0f8eb-1dea-4979-8304-ab9291d84ea4"
      },
      "outputs": [
        {
          "output_type": "execute_result",
          "data": {
            "text/plain": [
              "title      0\n",
              "text       0\n",
              "subject    0\n",
              "date       0\n",
              "label      0\n",
              "dtype: int64"
            ]
          },
          "metadata": {},
          "execution_count": 21
        }
      ],
      "source": [
        "df.isna().sum()"
      ]
    },
    {
      "cell_type": "code",
      "source": [
        "df.info()"
      ],
      "metadata": {
        "colab": {
          "base_uri": "https://localhost:8080/"
        },
        "id": "QVDlWWA2cOUg",
        "outputId": "487be4b8-5043-424c-9f1b-a58b52c0e9f7"
      },
      "id": "QVDlWWA2cOUg",
      "execution_count": 88,
      "outputs": [
        {
          "output_type": "stream",
          "name": "stdout",
          "text": [
            "<class 'pandas.core.frame.DataFrame'>\n",
            "Int64Index: 44898 entries, 0 to 23480\n",
            "Data columns (total 5 columns):\n",
            " #   Column   Non-Null Count  Dtype \n",
            "---  ------   --------------  ----- \n",
            " 0   title    44898 non-null  object\n",
            " 1   text     44898 non-null  object\n",
            " 2   subject  44898 non-null  object\n",
            " 3   date     44898 non-null  object\n",
            " 4   label    44898 non-null  int64 \n",
            "dtypes: int64(1), object(4)\n",
            "memory usage: 2.1+ MB\n"
          ]
        }
      ]
    },
    {
      "cell_type": "markdown",
      "source": [
        "We don't have any null values. Now we are going to change our date from object type to date-time format. For this purpose, we are going to filter some of the unnecessary words from our date column. We are going to remove the patterns like https, and name of the month to keep all date values in a single format."
      ],
      "metadata": {
        "id": "k-PnTwVYb_ja"
      },
      "id": "k-PnTwVYb_ja"
    },
    {
      "cell_type": "code",
      "execution_count": 22,
      "id": "d2cab390",
      "metadata": {
        "id": "d2cab390"
      },
      "outputs": [],
      "source": [
        "pattern = \"http\"\n",
        "filter1 = df['date'].str.contains(pattern)\n",
        "\n",
        "df = df[~filter1]"
      ]
    },
    {
      "cell_type": "code",
      "execution_count": 23,
      "id": "d7b6833e",
      "metadata": {
        "id": "d7b6833e"
      },
      "outputs": [],
      "source": [
        "pattern = \"Jan|Feb|Mar|Apr|May|Jun|Jul|Aug|Sep|Oct|Nov|Dec\"\n",
        "filter2 = df['date'].str.contains(pattern)\n",
        "\n",
        "df = df[filter2]"
      ]
    },
    {
      "cell_type": "markdown",
      "source": [
        "After filtering them, we are going to turn the format into datetime format of pandas library."
      ],
      "metadata": {
        "id": "T4dxKDKYctZg"
      },
      "id": "T4dxKDKYctZg"
    },
    {
      "cell_type": "code",
      "execution_count": 24,
      "id": "cbf63e28",
      "metadata": {
        "id": "cbf63e28"
      },
      "outputs": [],
      "source": [
        "df['date'] = pd.to_datetime(df['date'])"
      ]
    },
    {
      "cell_type": "markdown",
      "source": [
        "We are going to use date as index of our dataframe."
      ],
      "metadata": {
        "id": "Bw42bzszdDn3"
      },
      "id": "Bw42bzszdDn3"
    },
    {
      "cell_type": "code",
      "execution_count": 25,
      "id": "69650fff",
      "metadata": {
        "colab": {
          "base_uri": "https://localhost:8080/",
          "height": 455
        },
        "id": "69650fff",
        "outputId": "8b0a6ed3-9d29-4f66-efd9-c7f5d9b21537"
      },
      "outputs": [
        {
          "output_type": "execute_result",
          "data": {
            "text/plain": [
              "                                                        title  \\\n",
              "date                                                            \n",
              "2015-03-31  WATCH DIRTY HARRY REID ON HIS LIE ABOUT ROMNEY...   \n",
              "2015-03-31  BENGHAZI PANEL CALLS HILLARY TO TESTIFY UNDER ...   \n",
              "2015-03-31  HILLARY RODHAM NIXON: A CANDIDATE WITH MORE BA...   \n",
              "2015-03-31  HILLARY RODHAM NIXON: A CANDIDATE WITH MORE BA...   \n",
              "2015-03-31  WATCH DIRTY HARRY REID ON HIS LIE ABOUT ROMNEY...   \n",
              "...                                                       ...   \n",
              "2018-02-18  JUST IN: BADASS GENERAL JOHN KELLY Shoved Chin...   \n",
              "2018-02-18  IT BEGINS…RINO MEGA-DONOR Threatens Jeb Bush: ...   \n",
              "2018-02-19  WATCH: SNOWFLAKES ASKED Communist Party Platfo...   \n",
              "2018-02-19  MSNBC ANCHOR Flabbergasted at What Texas Teach...   \n",
              "2018-02-19  Democrat Senator Warns Mueller Not To Release ...   \n",
              "\n",
              "                                                         text    subject  \\\n",
              "date                                                                       \n",
              "2015-03-31  In case you missed it Sen. Harry Reid (R-NV), ...   politics   \n",
              "2015-03-31  Does anyone really think Hillary Clinton will ...   politics   \n",
              "2015-03-31  The irony here isn t lost on us. Hillary is be...   politics   \n",
              "2015-03-31  The irony here isn t lost on us. Hillary is be...  left-news   \n",
              "2015-03-31  In case you missed it Sen. Harry Reid (R-NV), ...  left-news   \n",
              "...                                                       ...        ...   \n",
              "2018-02-18  Just one more reminder of why President Trump ...   politics   \n",
              "2018-02-18  A longtime Republican Party donor based in Flo...   politics   \n",
              "2018-02-19  Ami Horowitz is fantastic! Check out this man ...   politics   \n",
              "2018-02-19  If we protect every other government building ...   politics   \n",
              "2018-02-19  According to The Hill, Democrat Senator Bob Ca...   politics   \n",
              "\n",
              "            label  \n",
              "date               \n",
              "2015-03-31      0  \n",
              "2015-03-31      0  \n",
              "2015-03-31      0  \n",
              "2015-03-31      0  \n",
              "2015-03-31      0  \n",
              "...           ...  \n",
              "2018-02-18      0  \n",
              "2018-02-18      0  \n",
              "2018-02-19      0  \n",
              "2018-02-19      0  \n",
              "2018-02-19      0  \n",
              "\n",
              "[44888 rows x 4 columns]"
            ],
            "text/html": [
              "\n",
              "  <div id=\"df-f34007c8-1669-4cec-bd1f-6cc724605f32\">\n",
              "    <div class=\"colab-df-container\">\n",
              "      <div>\n",
              "<style scoped>\n",
              "    .dataframe tbody tr th:only-of-type {\n",
              "        vertical-align: middle;\n",
              "    }\n",
              "\n",
              "    .dataframe tbody tr th {\n",
              "        vertical-align: top;\n",
              "    }\n",
              "\n",
              "    .dataframe thead th {\n",
              "        text-align: right;\n",
              "    }\n",
              "</style>\n",
              "<table border=\"1\" class=\"dataframe\">\n",
              "  <thead>\n",
              "    <tr style=\"text-align: right;\">\n",
              "      <th></th>\n",
              "      <th>title</th>\n",
              "      <th>text</th>\n",
              "      <th>subject</th>\n",
              "      <th>label</th>\n",
              "    </tr>\n",
              "    <tr>\n",
              "      <th>date</th>\n",
              "      <th></th>\n",
              "      <th></th>\n",
              "      <th></th>\n",
              "      <th></th>\n",
              "    </tr>\n",
              "  </thead>\n",
              "  <tbody>\n",
              "    <tr>\n",
              "      <th>2015-03-31</th>\n",
              "      <td>WATCH DIRTY HARRY REID ON HIS LIE ABOUT ROMNEY...</td>\n",
              "      <td>In case you missed it Sen. Harry Reid (R-NV), ...</td>\n",
              "      <td>politics</td>\n",
              "      <td>0</td>\n",
              "    </tr>\n",
              "    <tr>\n",
              "      <th>2015-03-31</th>\n",
              "      <td>BENGHAZI PANEL CALLS HILLARY TO TESTIFY UNDER ...</td>\n",
              "      <td>Does anyone really think Hillary Clinton will ...</td>\n",
              "      <td>politics</td>\n",
              "      <td>0</td>\n",
              "    </tr>\n",
              "    <tr>\n",
              "      <th>2015-03-31</th>\n",
              "      <td>HILLARY RODHAM NIXON: A CANDIDATE WITH MORE BA...</td>\n",
              "      <td>The irony here isn t lost on us. Hillary is be...</td>\n",
              "      <td>politics</td>\n",
              "      <td>0</td>\n",
              "    </tr>\n",
              "    <tr>\n",
              "      <th>2015-03-31</th>\n",
              "      <td>HILLARY RODHAM NIXON: A CANDIDATE WITH MORE BA...</td>\n",
              "      <td>The irony here isn t lost on us. Hillary is be...</td>\n",
              "      <td>left-news</td>\n",
              "      <td>0</td>\n",
              "    </tr>\n",
              "    <tr>\n",
              "      <th>2015-03-31</th>\n",
              "      <td>WATCH DIRTY HARRY REID ON HIS LIE ABOUT ROMNEY...</td>\n",
              "      <td>In case you missed it Sen. Harry Reid (R-NV), ...</td>\n",
              "      <td>left-news</td>\n",
              "      <td>0</td>\n",
              "    </tr>\n",
              "    <tr>\n",
              "      <th>...</th>\n",
              "      <td>...</td>\n",
              "      <td>...</td>\n",
              "      <td>...</td>\n",
              "      <td>...</td>\n",
              "    </tr>\n",
              "    <tr>\n",
              "      <th>2018-02-18</th>\n",
              "      <td>JUST IN: BADASS GENERAL JOHN KELLY Shoved Chin...</td>\n",
              "      <td>Just one more reminder of why President Trump ...</td>\n",
              "      <td>politics</td>\n",
              "      <td>0</td>\n",
              "    </tr>\n",
              "    <tr>\n",
              "      <th>2018-02-18</th>\n",
              "      <td>IT BEGINS…RINO MEGA-DONOR Threatens Jeb Bush: ...</td>\n",
              "      <td>A longtime Republican Party donor based in Flo...</td>\n",
              "      <td>politics</td>\n",
              "      <td>0</td>\n",
              "    </tr>\n",
              "    <tr>\n",
              "      <th>2018-02-19</th>\n",
              "      <td>WATCH: SNOWFLAKES ASKED Communist Party Platfo...</td>\n",
              "      <td>Ami Horowitz is fantastic! Check out this man ...</td>\n",
              "      <td>politics</td>\n",
              "      <td>0</td>\n",
              "    </tr>\n",
              "    <tr>\n",
              "      <th>2018-02-19</th>\n",
              "      <td>MSNBC ANCHOR Flabbergasted at What Texas Teach...</td>\n",
              "      <td>If we protect every other government building ...</td>\n",
              "      <td>politics</td>\n",
              "      <td>0</td>\n",
              "    </tr>\n",
              "    <tr>\n",
              "      <th>2018-02-19</th>\n",
              "      <td>Democrat Senator Warns Mueller Not To Release ...</td>\n",
              "      <td>According to The Hill, Democrat Senator Bob Ca...</td>\n",
              "      <td>politics</td>\n",
              "      <td>0</td>\n",
              "    </tr>\n",
              "  </tbody>\n",
              "</table>\n",
              "<p>44888 rows × 4 columns</p>\n",
              "</div>\n",
              "      <button class=\"colab-df-convert\" onclick=\"convertToInteractive('df-f34007c8-1669-4cec-bd1f-6cc724605f32')\"\n",
              "              title=\"Convert this dataframe to an interactive table.\"\n",
              "              style=\"display:none;\">\n",
              "        \n",
              "  <svg xmlns=\"http://www.w3.org/2000/svg\" height=\"24px\"viewBox=\"0 0 24 24\"\n",
              "       width=\"24px\">\n",
              "    <path d=\"M0 0h24v24H0V0z\" fill=\"none\"/>\n",
              "    <path d=\"M18.56 5.44l.94 2.06.94-2.06 2.06-.94-2.06-.94-.94-2.06-.94 2.06-2.06.94zm-11 1L8.5 8.5l.94-2.06 2.06-.94-2.06-.94L8.5 2.5l-.94 2.06-2.06.94zm10 10l.94 2.06.94-2.06 2.06-.94-2.06-.94-.94-2.06-.94 2.06-2.06.94z\"/><path d=\"M17.41 7.96l-1.37-1.37c-.4-.4-.92-.59-1.43-.59-.52 0-1.04.2-1.43.59L10.3 9.45l-7.72 7.72c-.78.78-.78 2.05 0 2.83L4 21.41c.39.39.9.59 1.41.59.51 0 1.02-.2 1.41-.59l7.78-7.78 2.81-2.81c.8-.78.8-2.07 0-2.86zM5.41 20L4 18.59l7.72-7.72 1.47 1.35L5.41 20z\"/>\n",
              "  </svg>\n",
              "      </button>\n",
              "      \n",
              "  <style>\n",
              "    .colab-df-container {\n",
              "      display:flex;\n",
              "      flex-wrap:wrap;\n",
              "      gap: 12px;\n",
              "    }\n",
              "\n",
              "    .colab-df-convert {\n",
              "      background-color: #E8F0FE;\n",
              "      border: none;\n",
              "      border-radius: 50%;\n",
              "      cursor: pointer;\n",
              "      display: none;\n",
              "      fill: #1967D2;\n",
              "      height: 32px;\n",
              "      padding: 0 0 0 0;\n",
              "      width: 32px;\n",
              "    }\n",
              "\n",
              "    .colab-df-convert:hover {\n",
              "      background-color: #E2EBFA;\n",
              "      box-shadow: 0px 1px 2px rgba(60, 64, 67, 0.3), 0px 1px 3px 1px rgba(60, 64, 67, 0.15);\n",
              "      fill: #174EA6;\n",
              "    }\n",
              "\n",
              "    [theme=dark] .colab-df-convert {\n",
              "      background-color: #3B4455;\n",
              "      fill: #D2E3FC;\n",
              "    }\n",
              "\n",
              "    [theme=dark] .colab-df-convert:hover {\n",
              "      background-color: #434B5C;\n",
              "      box-shadow: 0px 1px 3px 1px rgba(0, 0, 0, 0.15);\n",
              "      filter: drop-shadow(0px 1px 2px rgba(0, 0, 0, 0.3));\n",
              "      fill: #FFFFFF;\n",
              "    }\n",
              "  </style>\n",
              "\n",
              "      <script>\n",
              "        const buttonEl =\n",
              "          document.querySelector('#df-f34007c8-1669-4cec-bd1f-6cc724605f32 button.colab-df-convert');\n",
              "        buttonEl.style.display =\n",
              "          google.colab.kernel.accessAllowed ? 'block' : 'none';\n",
              "\n",
              "        async function convertToInteractive(key) {\n",
              "          const element = document.querySelector('#df-f34007c8-1669-4cec-bd1f-6cc724605f32');\n",
              "          const dataTable =\n",
              "            await google.colab.kernel.invokeFunction('convertToInteractive',\n",
              "                                                     [key], {});\n",
              "          if (!dataTable) return;\n",
              "\n",
              "          const docLinkHtml = 'Like what you see? Visit the ' +\n",
              "            '<a target=\"_blank\" href=https://colab.research.google.com/notebooks/data_table.ipynb>data table notebook</a>'\n",
              "            + ' to learn more about interactive tables.';\n",
              "          element.innerHTML = '';\n",
              "          dataTable['output_type'] = 'display_data';\n",
              "          await google.colab.output.renderOutput(dataTable, element);\n",
              "          const docLink = document.createElement('div');\n",
              "          docLink.innerHTML = docLinkHtml;\n",
              "          element.appendChild(docLink);\n",
              "        }\n",
              "      </script>\n",
              "    </div>\n",
              "  </div>\n",
              "  "
            ]
          },
          "metadata": {},
          "execution_count": 25
        }
      ],
      "source": [
        "df = df.set_index(['date']).sort_values(['date'])\n",
        "df"
      ]
    },
    {
      "cell_type": "markdown",
      "source": [
        "Now in this step, we are going to merge the text information into one feature for further process. We are merging them in a new column called news, and dropping the old columns, which are title, text and subject."
      ],
      "metadata": {
        "id": "m88KdMPSdKfZ"
      },
      "id": "m88KdMPSdKfZ"
    },
    {
      "cell_type": "code",
      "execution_count": 26,
      "id": "b3874a06",
      "metadata": {
        "colab": {
          "base_uri": "https://localhost:8080/",
          "height": 455
        },
        "id": "b3874a06",
        "outputId": "f1d6534d-f2e3-4b4c-975f-a07c8877108f"
      },
      "outputs": [
        {
          "output_type": "execute_result",
          "data": {
            "text/plain": [
              "            label                                               news\n",
              "date                                                                \n",
              "2015-03-31      0  WATCH DIRTY HARRY REID ON HIS LIE ABOUT ROMNEY...\n",
              "2015-03-31      0  BENGHAZI PANEL CALLS HILLARY TO TESTIFY UNDER ...\n",
              "2015-03-31      0  HILLARY RODHAM NIXON: A CANDIDATE WITH MORE BA...\n",
              "2015-03-31      0  HILLARY RODHAM NIXON: A CANDIDATE WITH MORE BA...\n",
              "2015-03-31      0  WATCH DIRTY HARRY REID ON HIS LIE ABOUT ROMNEY...\n",
              "...           ...                                                ...\n",
              "2018-02-18      0  JUST IN: BADASS GENERAL JOHN KELLY Shoved Chin...\n",
              "2018-02-18      0  IT BEGINS…RINO MEGA-DONOR Threatens Jeb Bush: ...\n",
              "2018-02-19      0  WATCH: SNOWFLAKES ASKED Communist Party Platfo...\n",
              "2018-02-19      0  MSNBC ANCHOR Flabbergasted at What Texas Teach...\n",
              "2018-02-19      0  Democrat Senator Warns Mueller Not To Release ...\n",
              "\n",
              "[44888 rows x 2 columns]"
            ],
            "text/html": [
              "\n",
              "  <div id=\"df-87fa480b-95f5-4b92-a796-4fedcc5099bc\">\n",
              "    <div class=\"colab-df-container\">\n",
              "      <div>\n",
              "<style scoped>\n",
              "    .dataframe tbody tr th:only-of-type {\n",
              "        vertical-align: middle;\n",
              "    }\n",
              "\n",
              "    .dataframe tbody tr th {\n",
              "        vertical-align: top;\n",
              "    }\n",
              "\n",
              "    .dataframe thead th {\n",
              "        text-align: right;\n",
              "    }\n",
              "</style>\n",
              "<table border=\"1\" class=\"dataframe\">\n",
              "  <thead>\n",
              "    <tr style=\"text-align: right;\">\n",
              "      <th></th>\n",
              "      <th>label</th>\n",
              "      <th>news</th>\n",
              "    </tr>\n",
              "    <tr>\n",
              "      <th>date</th>\n",
              "      <th></th>\n",
              "      <th></th>\n",
              "    </tr>\n",
              "  </thead>\n",
              "  <tbody>\n",
              "    <tr>\n",
              "      <th>2015-03-31</th>\n",
              "      <td>0</td>\n",
              "      <td>WATCH DIRTY HARRY REID ON HIS LIE ABOUT ROMNEY...</td>\n",
              "    </tr>\n",
              "    <tr>\n",
              "      <th>2015-03-31</th>\n",
              "      <td>0</td>\n",
              "      <td>BENGHAZI PANEL CALLS HILLARY TO TESTIFY UNDER ...</td>\n",
              "    </tr>\n",
              "    <tr>\n",
              "      <th>2015-03-31</th>\n",
              "      <td>0</td>\n",
              "      <td>HILLARY RODHAM NIXON: A CANDIDATE WITH MORE BA...</td>\n",
              "    </tr>\n",
              "    <tr>\n",
              "      <th>2015-03-31</th>\n",
              "      <td>0</td>\n",
              "      <td>HILLARY RODHAM NIXON: A CANDIDATE WITH MORE BA...</td>\n",
              "    </tr>\n",
              "    <tr>\n",
              "      <th>2015-03-31</th>\n",
              "      <td>0</td>\n",
              "      <td>WATCH DIRTY HARRY REID ON HIS LIE ABOUT ROMNEY...</td>\n",
              "    </tr>\n",
              "    <tr>\n",
              "      <th>...</th>\n",
              "      <td>...</td>\n",
              "      <td>...</td>\n",
              "    </tr>\n",
              "    <tr>\n",
              "      <th>2018-02-18</th>\n",
              "      <td>0</td>\n",
              "      <td>JUST IN: BADASS GENERAL JOHN KELLY Shoved Chin...</td>\n",
              "    </tr>\n",
              "    <tr>\n",
              "      <th>2018-02-18</th>\n",
              "      <td>0</td>\n",
              "      <td>IT BEGINS…RINO MEGA-DONOR Threatens Jeb Bush: ...</td>\n",
              "    </tr>\n",
              "    <tr>\n",
              "      <th>2018-02-19</th>\n",
              "      <td>0</td>\n",
              "      <td>WATCH: SNOWFLAKES ASKED Communist Party Platfo...</td>\n",
              "    </tr>\n",
              "    <tr>\n",
              "      <th>2018-02-19</th>\n",
              "      <td>0</td>\n",
              "      <td>MSNBC ANCHOR Flabbergasted at What Texas Teach...</td>\n",
              "    </tr>\n",
              "    <tr>\n",
              "      <th>2018-02-19</th>\n",
              "      <td>0</td>\n",
              "      <td>Democrat Senator Warns Mueller Not To Release ...</td>\n",
              "    </tr>\n",
              "  </tbody>\n",
              "</table>\n",
              "<p>44888 rows × 2 columns</p>\n",
              "</div>\n",
              "      <button class=\"colab-df-convert\" onclick=\"convertToInteractive('df-87fa480b-95f5-4b92-a796-4fedcc5099bc')\"\n",
              "              title=\"Convert this dataframe to an interactive table.\"\n",
              "              style=\"display:none;\">\n",
              "        \n",
              "  <svg xmlns=\"http://www.w3.org/2000/svg\" height=\"24px\"viewBox=\"0 0 24 24\"\n",
              "       width=\"24px\">\n",
              "    <path d=\"M0 0h24v24H0V0z\" fill=\"none\"/>\n",
              "    <path d=\"M18.56 5.44l.94 2.06.94-2.06 2.06-.94-2.06-.94-.94-2.06-.94 2.06-2.06.94zm-11 1L8.5 8.5l.94-2.06 2.06-.94-2.06-.94L8.5 2.5l-.94 2.06-2.06.94zm10 10l.94 2.06.94-2.06 2.06-.94-2.06-.94-.94-2.06-.94 2.06-2.06.94z\"/><path d=\"M17.41 7.96l-1.37-1.37c-.4-.4-.92-.59-1.43-.59-.52 0-1.04.2-1.43.59L10.3 9.45l-7.72 7.72c-.78.78-.78 2.05 0 2.83L4 21.41c.39.39.9.59 1.41.59.51 0 1.02-.2 1.41-.59l7.78-7.78 2.81-2.81c.8-.78.8-2.07 0-2.86zM5.41 20L4 18.59l7.72-7.72 1.47 1.35L5.41 20z\"/>\n",
              "  </svg>\n",
              "      </button>\n",
              "      \n",
              "  <style>\n",
              "    .colab-df-container {\n",
              "      display:flex;\n",
              "      flex-wrap:wrap;\n",
              "      gap: 12px;\n",
              "    }\n",
              "\n",
              "    .colab-df-convert {\n",
              "      background-color: #E8F0FE;\n",
              "      border: none;\n",
              "      border-radius: 50%;\n",
              "      cursor: pointer;\n",
              "      display: none;\n",
              "      fill: #1967D2;\n",
              "      height: 32px;\n",
              "      padding: 0 0 0 0;\n",
              "      width: 32px;\n",
              "    }\n",
              "\n",
              "    .colab-df-convert:hover {\n",
              "      background-color: #E2EBFA;\n",
              "      box-shadow: 0px 1px 2px rgba(60, 64, 67, 0.3), 0px 1px 3px 1px rgba(60, 64, 67, 0.15);\n",
              "      fill: #174EA6;\n",
              "    }\n",
              "\n",
              "    [theme=dark] .colab-df-convert {\n",
              "      background-color: #3B4455;\n",
              "      fill: #D2E3FC;\n",
              "    }\n",
              "\n",
              "    [theme=dark] .colab-df-convert:hover {\n",
              "      background-color: #434B5C;\n",
              "      box-shadow: 0px 1px 3px 1px rgba(0, 0, 0, 0.15);\n",
              "      filter: drop-shadow(0px 1px 2px rgba(0, 0, 0, 0.3));\n",
              "      fill: #FFFFFF;\n",
              "    }\n",
              "  </style>\n",
              "\n",
              "      <script>\n",
              "        const buttonEl =\n",
              "          document.querySelector('#df-87fa480b-95f5-4b92-a796-4fedcc5099bc button.colab-df-convert');\n",
              "        buttonEl.style.display =\n",
              "          google.colab.kernel.accessAllowed ? 'block' : 'none';\n",
              "\n",
              "        async function convertToInteractive(key) {\n",
              "          const element = document.querySelector('#df-87fa480b-95f5-4b92-a796-4fedcc5099bc');\n",
              "          const dataTable =\n",
              "            await google.colab.kernel.invokeFunction('convertToInteractive',\n",
              "                                                     [key], {});\n",
              "          if (!dataTable) return;\n",
              "\n",
              "          const docLinkHtml = 'Like what you see? Visit the ' +\n",
              "            '<a target=\"_blank\" href=https://colab.research.google.com/notebooks/data_table.ipynb>data table notebook</a>'\n",
              "            + ' to learn more about interactive tables.';\n",
              "          element.innerHTML = '';\n",
              "          dataTable['output_type'] = 'display_data';\n",
              "          await google.colab.output.renderOutput(dataTable, element);\n",
              "          const docLink = document.createElement('div');\n",
              "          docLink.innerHTML = docLinkHtml;\n",
              "          element.appendChild(docLink);\n",
              "        }\n",
              "      </script>\n",
              "    </div>\n",
              "  </div>\n",
              "  "
            ]
          },
          "metadata": {},
          "execution_count": 26
        }
      ],
      "source": [
        "df['news'] = df['title'] + ' ' + df['text'] + ' ' + df['subject']\n",
        "df = df.drop(['title', 'text', 'subject'], axis=1)\n",
        "df"
      ]
    },
    {
      "cell_type": "markdown",
      "source": [
        "Now our dataframe has the columns, which are label and news. "
      ],
      "metadata": {
        "id": "SDTGCci_dcyZ"
      },
      "id": "SDTGCci_dcyZ"
    },
    {
      "cell_type": "code",
      "execution_count": 27,
      "id": "cbfb5817",
      "metadata": {
        "colab": {
          "base_uri": "https://localhost:8080/"
        },
        "id": "cbfb5817",
        "outputId": "be047cb0-0a83-43bc-941a-d7774d4a24c8"
      },
      "outputs": [
        {
          "output_type": "stream",
          "name": "stdout",
          "text": [
            "<class 'pandas.core.frame.DataFrame'>\n",
            "DatetimeIndex: 44888 entries, 2015-03-31 to 2018-02-19\n",
            "Data columns (total 2 columns):\n",
            " #   Column  Non-Null Count  Dtype \n",
            "---  ------  --------------  ----- \n",
            " 0   label   44888 non-null  int64 \n",
            " 1   news    44888 non-null  object\n",
            "dtypes: int64(1), object(1)\n",
            "memory usage: 1.0+ MB\n"
          ]
        }
      ],
      "source": [
        "df.info()"
      ]
    },
    {
      "cell_type": "markdown",
      "source": [
        "The datatype of news is object. We are going to change it to string, before next step."
      ],
      "metadata": {
        "id": "VUCKzBnvdjli"
      },
      "id": "VUCKzBnvdjli"
    },
    {
      "cell_type": "code",
      "execution_count": 28,
      "id": "2c001b27",
      "metadata": {
        "id": "2c001b27"
      },
      "outputs": [],
      "source": [
        "df['news'] = df['news'].astype('string')"
      ]
    },
    {
      "cell_type": "markdown",
      "source": [
        "# Cleaning the Text\n",
        "\n",
        "In NLP tasks, one of the most crucial step is cleaning the text. To clean the text, there are a lot of different methods. We are going to use some help of some libraries such as, string and stopwords. \n",
        "\n",
        "To start cleaning our text, we start with lowering all of the cases. Then we are going to check for punctuations. After removing punctuations, we have seen that some special characters such as “, ” and ’ are not in the string library. Then we are checking for any digits. And lastly, we are removing multiple whitespaces."
      ],
      "metadata": {
        "id": "3uMu2ypUds8h"
      },
      "id": "3uMu2ypUds8h"
    },
    {
      "cell_type": "code",
      "execution_count": 29,
      "id": "18b0c273",
      "metadata": {
        "id": "18b0c273"
      },
      "outputs": [],
      "source": [
        "def clean_text(text):\n",
        "    cleaned_text = text.lower()\n",
        "    cleaned_text = \"\".join([i for i in cleaned_text if i not in string.punctuation])\n",
        "    cleaned_text = re.sub('[\\\\“\\\\’\\\\”]', ' ', cleaned_text)\n",
        "    cleaned_text = re.sub(\"\\d+\", ' ', cleaned_text)\n",
        "    cleaned_text = re.sub(\"\\\\s+\", ' ', cleaned_text)\n",
        "    \n",
        "    return cleaned_text"
      ]
    },
    {
      "cell_type": "markdown",
      "source": [
        "We are using the function created above to clean our text from the explained items."
      ],
      "metadata": {
        "id": "UeKO7AltfNAB"
      },
      "id": "UeKO7AltfNAB"
    },
    {
      "cell_type": "code",
      "execution_count": 30,
      "id": "efcd8e53",
      "metadata": {
        "colab": {
          "base_uri": "https://localhost:8080/"
        },
        "id": "efcd8e53",
        "outputId": "e38a5b51-f456-4b62-ae5a-b050bd70078a"
      },
      "outputs": [
        {
          "output_type": "stream",
          "name": "stdout",
          "text": [
            "watch dirty harry reid on his lie about romney s taxes  he didn t win did he  in case you missed it sen harry reid rnv who announced last week that he will retire after his current term expires in early said he does not regret taking to the senate floor in to accuse thengop presidential nominee mitt romney of not paying his taxes no i don t regret that at all he told cnn s dana bash the koch brothers no one would help me they were afraid the koch brothers would go after them so i did it on my own bash said some viewed the charge as mccarthyite but reid didn t buy that explanation he shrugged saying they can call it whatever they want romney didn t win did he reid said somewhat amusingly politics\n"
          ]
        }
      ],
      "source": [
        "df['news'] = df['news'].apply(lambda x: clean_text(x))\n",
        "print(df['news'][0])"
      ]
    },
    {
      "cell_type": "markdown",
      "source": [
        "We can see that, all the punctuation and other items such as doubles spaces and digits are removed from our text. \n",
        "\n",
        "Now we are going to remove stopwords which are common words used in english which does not carry information our task. This words can be exampled as on, his, he, in etc. We are going to check every word in our dataset, and remove the stopwords inside our text. "
      ],
      "metadata": {
        "id": "hFkCH0sKfVFz"
      },
      "id": "hFkCH0sKfVFz"
    },
    {
      "cell_type": "code",
      "execution_count": 31,
      "id": "ea9d0c79",
      "metadata": {
        "id": "ea9d0c79"
      },
      "outputs": [],
      "source": [
        "def remove_stopwords (text):\n",
        "    stopwords_removal = [word for word in word_tokenize(text) if word.lower() not in stopwords.words('english')]\n",
        "    stopwords_removal = ' '.join(stopwords_removal)\n",
        "    return stopwords_removal"
      ]
    },
    {
      "cell_type": "markdown",
      "source": [
        "We are going to apply the function that we have created to our text data to remove stopwords."
      ],
      "metadata": {
        "id": "NCjy2wnGgrOQ"
      },
      "id": "NCjy2wnGgrOQ"
    },
    {
      "cell_type": "code",
      "execution_count": 39,
      "id": "ee765586",
      "metadata": {
        "colab": {
          "base_uri": "https://localhost:8080/"
        },
        "id": "ee765586",
        "outputId": "efa8980f-5a77-4c34-c192-0e45d00080a5"
      },
      "outputs": [
        {
          "output_type": "stream",
          "name": "stdout",
          "text": [
            "watch dirty harry reid lie romney taxes win case missed sen harry reid rnv announced last week retire current term expires early said regret taking senate floor accuse thengop presidential nominee mitt romney paying taxes regret told cnn dana bash koch brothers one would help afraid koch brothers would go bash said viewed charge mccarthyite reid buy explanation shrugged saying call whatever want romney win reid said somewhat amusingly politics\n"
          ]
        }
      ],
      "source": [
        "df['news'] = df['news'].apply(lambda x: remove_stopwords(x))\n",
        "print(df['news'][0])"
      ]
    },
    {
      "cell_type": "markdown",
      "source": [
        "Now our text data is clean and ready for further steps."
      ],
      "metadata": {
        "id": "cqf6Vsowgx_j"
      },
      "id": "cqf6Vsowgx_j"
    },
    {
      "cell_type": "markdown",
      "source": [
        "# Text Tokenization\n",
        "\n",
        "Although our text data is clean, it is still in string format. To shape it into suitable format to be able to fit into our CNN model, we are going to use Tokenizer from Tenserflow library. \n",
        "\n",
        "Tokenizer, takes the text data and vectorizes it into numbers that we can use in our model. We are going to use white space as seperator in our tokenization. After tokenizing our data, we are padding the sequences to have our text data fully ready for train, test split.\n",
        "\n",
        "And also we are changing our target label to categorical with Tensorflow library."
      ],
      "metadata": {
        "id": "4JEyp5vng2J5"
      },
      "id": "4JEyp5vng2J5"
    },
    {
      "cell_type": "code",
      "execution_count": 40,
      "id": "994369d1",
      "metadata": {
        "colab": {
          "base_uri": "https://localhost:8080/"
        },
        "id": "994369d1",
        "outputId": "ff7ad25d-72b7-46e3-a51c-f789d3875037"
      },
      "outputs": [
        {
          "output_type": "stream",
          "name": "stdout",
          "text": [
            "(44888, 4856)\n",
            "(44888, 2)\n"
          ]
        }
      ],
      "source": [
        "tokenizer = Tokenizer(split=' ')\n",
        "tokenizer.fit_on_texts(df['news'])\n",
        "sequences = tokenizer.texts_to_sequences(df['news'])\n",
        "maxlen = max([len(x) for x in sequences])\n",
        "x_deep = pad_sequences(sequences, padding='post', truncating='post', maxlen=maxlen)\n",
        "print(x_deep.shape)\n",
        "\n",
        "y_deep = to_categorical(df['label'], 2)\n",
        "print(y_deep.shape)"
      ]
    },
    {
      "cell_type": "markdown",
      "source": [
        "Now we have 44888 rows of data, and 4856 features which represents different words which takes place in our dataset. For every occurence, we have a value for the datapoint.\n",
        "\n",
        "We are going to split our dataframe into train and test datasets."
      ],
      "metadata": {
        "id": "h00tUkPykNOv"
      },
      "id": "h00tUkPykNOv"
    },
    {
      "cell_type": "code",
      "execution_count": 41,
      "id": "96e6c37b",
      "metadata": {
        "id": "96e6c37b"
      },
      "outputs": [],
      "source": [
        "x_deep_train, x_deep_test, y_deep_train, y_deep_test = train_test_split(x_deep, y_deep, random_state=13)"
      ]
    },
    {
      "cell_type": "markdown",
      "source": [
        "# CNN\n",
        "\n",
        "In this step, we are going to create our model based on our training data and conduct experiments to find the best model. While experimenting, different CNN's have been modeled and observed.\n",
        "\n",
        "We are going to reshape our feature vectors into input shape for CNN."
      ],
      "metadata": {
        "id": "-IV7RDgBkjgw"
      },
      "id": "-IV7RDgBkjgw"
    },
    {
      "cell_type": "code",
      "execution_count": 72,
      "id": "0f74fda0",
      "metadata": {
        "id": "0f74fda0"
      },
      "outputs": [],
      "source": [
        "x_deep_train = np.array(x_deep_train).reshape(x_deep_train.shape[0], x_deep_train.shape[1], 1)\n",
        "x_deep_test = np.array(x_deep_test).reshape(x_deep_test.shape[0], x_deep_test.shape[1], 1)"
      ]
    },
    {
      "cell_type": "markdown",
      "source": [
        "## Creating the Model\n",
        "\n",
        "Following model has the best accuracy score among the experiments.\n",
        "\n",
        "Our CNN model is a sequential model starts with the input layer. Following a convolution layer with the size of 16 with relu activation comes and we are normalizing the output of convolution to accelerate our algorithm. Then we are downsizing our parameters by using maxpool. After repeating this step one more time, we are using a dense layer with 64 filters and relu activation. And lastly, we are getting our output from the last dense layer with 2 filters and softmax activation."
      ],
      "metadata": {
        "id": "D82spIQhlCyK"
      },
      "id": "D82spIQhlCyK"
    },
    {
      "cell_type": "code",
      "execution_count": 79,
      "id": "f810372d",
      "metadata": {
        "colab": {
          "base_uri": "https://localhost:8080/"
        },
        "id": "f810372d",
        "outputId": "ee514a67-50e3-4da6-ac9a-f07022e0618a"
      },
      "outputs": [
        {
          "output_type": "stream",
          "name": "stdout",
          "text": [
            "Model: \"sequential_17\"\n",
            "_________________________________________________________________\n",
            " Layer (type)                Output Shape              Param #   \n",
            "=================================================================\n",
            " conv1d (Conv1D)             (None, 4854, 16)          64        \n",
            "                                                                 \n",
            " batch_normalization (BatchN  (None, 4854, 16)         64        \n",
            " ormalization)                                                   \n",
            "                                                                 \n",
            " max_pooling1d (MaxPooling1D  (None, 2426, 16)         0         \n",
            " )                                                               \n",
            "                                                                 \n",
            " conv1d_1 (Conv1D)           (None, 2424, 16)          784       \n",
            "                                                                 \n",
            " batch_normalization_1 (Batc  (None, 2424, 16)         64        \n",
            " hNormalization)                                                 \n",
            "                                                                 \n",
            " max_pooling1d_1 (MaxPooling  (None, 1211, 16)         0         \n",
            " 1D)                                                             \n",
            "                                                                 \n",
            " flatten (Flatten)           (None, 19376)             0         \n",
            "                                                                 \n",
            " dropout_28 (Dropout)        (None, 19376)             0         \n",
            "                                                                 \n",
            " dense_28 (Dense)            (None, 64)                1240128   \n",
            "                                                                 \n",
            " dense_29 (Dense)            (None, 2)                 130       \n",
            "                                                                 \n",
            "=================================================================\n",
            "Total params: 1,241,234\n",
            "Trainable params: 1,241,170\n",
            "Non-trainable params: 64\n",
            "_________________________________________________________________\n"
          ]
        }
      ],
      "source": [
        "input_shape=(x_deep_train.shape[1],1)\n",
        "\n",
        "model_CNN = Sequential()\n",
        "\n",
        "model_CNN.add(Input(shape=input_shape))\n",
        "model_CNN.add(Conv1D(16, kernel_size=(3,), activation=\"relu\"))\n",
        "model_CNN.add(BatchNormalization())\n",
        "model_CNN.add(MaxPool1D(pool_size=(3,), strides=2))\n",
        "model_CNN.add(Conv1D(16, kernel_size=(3,), activation=\"relu\"))\n",
        "model_CNN.add(BatchNormalization())\n",
        "model_CNN.add(MaxPool1D(pool_size=(3,), strides=2))\n",
        "model_CNN.add(Flatten())\n",
        "model_CNN.add(Dropout(0.5))\n",
        "model_CNN.add(Dense(64, activation=\"relu\"))\n",
        "model_CNN.add(Dense(2, activation=\"softmax\"))\n",
        "          \n",
        "model_CNN.summary()"
      ]
    },
    {
      "cell_type": "markdown",
      "source": [
        "Since our model is ready, now we can fit our training into our model. To avoid overfitting, we are going to use early stopping. And we are going to use our test dataset as validation data to observe the validation and training scores together. We are going to hold information of the results in a variable called history_CNN."
      ],
      "metadata": {
        "id": "rGLD2wvYl-eg"
      },
      "id": "rGLD2wvYl-eg"
    },
    {
      "cell_type": "code",
      "execution_count": 80,
      "id": "f7d4c21b",
      "metadata": {
        "colab": {
          "base_uri": "https://localhost:8080/"
        },
        "id": "f7d4c21b",
        "outputId": "d93549c2-d600-4521-902c-4ce5f2548832"
      },
      "outputs": [
        {
          "output_type": "stream",
          "name": "stdout",
          "text": [
            "Epoch 1/33\n",
            "1053/1053 [==============================] - 179s 169ms/step - loss: 0.5348 - accuracy: 0.7811 - val_loss: 0.4267 - val_accuracy: 0.8085\n",
            "Epoch 2/33\n",
            "1053/1053 [==============================] - 173s 164ms/step - loss: 0.4097 - accuracy: 0.8155 - val_loss: 0.3903 - val_accuracy: 0.8300\n",
            "Epoch 3/33\n",
            "1053/1053 [==============================] - 180s 171ms/step - loss: 0.3872 - accuracy: 0.8285 - val_loss: 0.3913 - val_accuracy: 0.8312\n",
            "Epoch 4/33\n",
            "1053/1053 [==============================] - 172s 163ms/step - loss: 0.3795 - accuracy: 0.8318 - val_loss: 0.3762 - val_accuracy: 0.8351\n",
            "Epoch 5/33\n",
            "1053/1053 [==============================] - 172s 164ms/step - loss: 0.3701 - accuracy: 0.8382 - val_loss: 0.4277 - val_accuracy: 0.8159\n",
            "Epoch 6/33\n",
            "1053/1053 [==============================] - 174s 165ms/step - loss: 0.3561 - accuracy: 0.8453 - val_loss: 0.4142 - val_accuracy: 0.8185\n",
            "Epoch 7/33\n",
            "1053/1053 [==============================] - 176s 167ms/step - loss: 0.3496 - accuracy: 0.8497 - val_loss: 0.4277 - val_accuracy: 0.8174\n",
            "Epoch 8/33\n",
            "1053/1053 [==============================] - 177s 168ms/step - loss: 0.3437 - accuracy: 0.8543 - val_loss: 0.3703 - val_accuracy: 0.8409\n",
            "Epoch 9/33\n",
            "1053/1053 [==============================] - 175s 167ms/step - loss: 0.3344 - accuracy: 0.8588 - val_loss: 0.8838 - val_accuracy: 0.7826\n",
            "Epoch 10/33\n",
            "1053/1053 [==============================] - 178s 169ms/step - loss: 0.3247 - accuracy: 0.8645 - val_loss: 6.1608 - val_accuracy: 0.6444\n",
            "Epoch 11/33\n",
            "1053/1053 [==============================] - 190s 181ms/step - loss: 0.3171 - accuracy: 0.8674 - val_loss: 0.4089 - val_accuracy: 0.8362\n",
            "Epoch 12/33\n",
            "1053/1053 [==============================] - 181s 172ms/step - loss: 0.3071 - accuracy: 0.8728 - val_loss: 0.3473 - val_accuracy: 0.8543\n",
            "Epoch 13/33\n",
            "1053/1053 [==============================] - 183s 174ms/step - loss: 0.3027 - accuracy: 0.8744 - val_loss: 0.4691 - val_accuracy: 0.8305\n",
            "Epoch 14/33\n",
            "1053/1053 [==============================] - 179s 170ms/step - loss: 0.2934 - accuracy: 0.8796 - val_loss: 0.3521 - val_accuracy: 0.8535\n",
            "Epoch 15/33\n",
            "1053/1053 [==============================] - 175s 166ms/step - loss: 0.2876 - accuracy: 0.8811 - val_loss: 0.3329 - val_accuracy: 0.8663\n",
            "Epoch 16/33\n",
            "1053/1053 [==============================] - 178s 169ms/step - loss: 0.2864 - accuracy: 0.8830 - val_loss: 0.3354 - val_accuracy: 0.8651\n",
            "Epoch 17/33\n",
            "1053/1053 [==============================] - 179s 170ms/step - loss: 0.2808 - accuracy: 0.8849 - val_loss: 0.3346 - val_accuracy: 0.8650\n",
            "Epoch 18/33\n",
            "1053/1053 [==============================] - 181s 172ms/step - loss: 0.2775 - accuracy: 0.8851 - val_loss: 0.3745 - val_accuracy: 0.8506\n",
            "Epoch 19/33\n",
            "1053/1053 [==============================] - 174s 165ms/step - loss: 0.2727 - accuracy: 0.8868 - val_loss: 0.3367 - val_accuracy: 0.8593\n",
            "Epoch 20/33\n",
            "1053/1053 [==============================] - 173s 164ms/step - loss: 0.2729 - accuracy: 0.8876 - val_loss: 0.3598 - val_accuracy: 0.8504\n"
          ]
        }
      ],
      "source": [
        "callbacks = [EarlyStopping(monitor='val_loss', patience=5)]\n",
        "model_CNN.compile(optimizer='adam', loss='categorical_crossentropy',metrics=['accuracy'])\n",
        "history_CNN = model_CNN.fit(x_deep_train, y_deep_train, epochs=33, callbacks=callbacks, validation_data=(x_deep_test, y_deep_test))"
      ]
    },
    {
      "cell_type": "markdown",
      "source": [
        "Our model stops at 20th epoch with 0.8504 validation accuracy score. \n",
        "\n",
        "## Experiments\n",
        "\n",
        "### Dense Layer with 16 Filters\n",
        "\n",
        "Number of filters in convolution layers are as follows: 16-16\\\n",
        "Accuracy Score: 0.7064\n",
        "\n",
        "### Dense Layer with 32 Filters\n",
        "\n",
        "Number of filters in convolution layers are as follows: 32-32, 32-64\\\n",
        "Accuracy Scores: 0.8035, 0.7976\n",
        "\n",
        "### Dense Layer with 64 Filters\n",
        "\n",
        "Number of filters in convolution layers are as follows: 64-64, 64-32, 32-32, 16-16\\\n",
        "Accuracy Scores: 0.8089, 0.8047, 0.8002, 0.8359\n",
        "\n",
        "### Dense Layer with 128 Filters\n",
        "Number of filters in convolution layers are as follows:128-128\\\n",
        "Accuracy Score: 0.7993\n",
        "\n",
        "After choosing our Filter numbers, we have added batch normalization after each convolution layer. In the end we have the score of 0.8504 with the given parameters in each layer.\n",
        "\n",
        "#Results\n",
        "\n",
        "## Training vs Validation Accuracy\n",
        "\n",
        "Now we are going to observe training and validation accuracy. We are going to use history_CNN variable that we have created to save results of each epoch."
      ],
      "metadata": {
        "id": "vnwYQTFamXde"
      },
      "id": "vnwYQTFamXde"
    },
    {
      "cell_type": "code",
      "execution_count": 84,
      "id": "3695fdcb",
      "metadata": {
        "colab": {
          "base_uri": "https://localhost:8080/",
          "height": 523
        },
        "id": "3695fdcb",
        "outputId": "8c0f5bdd-4ae6-488f-9410-9ca7c0247685"
      },
      "outputs": [
        {
          "output_type": "stream",
          "name": "stdout",
          "text": [
            "351/351 - 22s - loss: 0.3598 - accuracy: 0.8504 - 22s/epoch - 61ms/step\n"
          ]
        },
        {
          "output_type": "display_data",
          "data": {
            "text/plain": [
              "<Figure size 576x576 with 1 Axes>"
            ],
            "image/png": "[encoded data removed]"
          },
          "metadata": {}
        }
      ],
      "source": [
        "plt.plot(history_CNN.history['accuracy'], label='accuracy')\n",
        "plt.plot(history_CNN.history['val_accuracy'], label = 'val_accuracy')\n",
        "plt.xlabel('Epoch')\n",
        "plt.ylabel('Accuracy')\n",
        "plt.ylim([0.5, 1])\n",
        "plt.legend(loc='lower right')\n",
        "\n",
        "test_loss, test_acc = model_CNN.evaluate(x_deep_test, y_deep_test, verbose=2)"
      ]
    },
    {
      "cell_type": "markdown",
      "source": [
        "Our training and validation score seems close to each other in the end. But on the otherhand, we can see that there is problem with the model at the 9th epoch.\n",
        "\n",
        "## Training vs Validation Loss\n",
        "\n",
        "To check overfitting, we are going to observe validation loss and training loss scores. We are going to use history_CNN variable again for this purpose."
      ],
      "metadata": {
        "id": "EvYaJJSym0CK"
      },
      "id": "EvYaJJSym0CK"
    },
    {
      "cell_type": "code",
      "execution_count": 85,
      "id": "fdf33cf3",
      "metadata": {
        "colab": {
          "base_uri": "https://localhost:8080/",
          "height": 519
        },
        "id": "fdf33cf3",
        "outputId": "8adf2b74-c658-4346-97a3-79ac74fc5f06"
      },
      "outputs": [
        {
          "output_type": "stream",
          "name": "stdout",
          "text": [
            "351/351 - 13s - loss: 0.3598 - accuracy: 0.8504 - 13s/epoch - 38ms/step\n"
          ]
        },
        {
          "output_type": "display_data",
          "data": {
            "text/plain": [
              "<Figure size 576x576 with 1 Axes>"
            ],
            "image/png": "[encoded data removed]"
          },
          "metadata": {}
        }
      ],
      "source": [
        "plt.plot(history_CNN.history['loss'], label='loss')\n",
        "plt.plot(history_CNN.history['val_loss'], label = 'val_loss')\n",
        "plt.xlabel('Epoch')\n",
        "plt.ylabel('Loss')\n",
        "plt.legend(loc='upper right')\n",
        "\n",
        "test_loss, test_acc = model_CNN.evaluate(x_deep_test, y_deep_test, verbose=2)"
      ]
    },
    {
      "cell_type": "markdown",
      "source": [
        "Again in the loss graph, we have a huge difference at the end of 9th epoch. But after 9th epoch, both training and validation losses starts to stabelize. "
      ],
      "metadata": {
        "id": "u87yWybTnHX7"
      },
      "id": "u87yWybTnHX7"
    },
    {
      "cell_type": "markdown",
      "source": [
        "# Discussion and Conclusion\n",
        "\n",
        "Our task was to predict a given task if it is a true or fake news. This task is important to avoid misinformation getting through the internet to a lot of people, who will believe and misact because of a fake news. We have created a NLP model using CNN. \n",
        "\n",
        "In our pipeline, we started with cleaning our text data from unwanted items such as punctuation, digits etc. Then we removed the stopwords in English which does not carry information about the text. After that, we tokenized our text data and make it suitable as an input to over CNN model. \n",
        "\n",
        "In the end of our experiments, we have reached the model provided with the validation accuracty score of 0.8504. This score is not a bad score, but it can be improved. Our model seems like overfit after the 9th epoch, but starts to stabalize after and earlystops at the 20th epoch.\n",
        "\n",
        "In our task although we had the date data, we didn't use it. An LSTM model can improve our prediction score using the date data. On the other hand, dataset is clear and suitable for this prediction task. "
      ],
      "metadata": {
        "id": "PbVwAPlpqood"
      },
      "id": "PbVwAPlpqood"
    },
    {
      "cell_type": "code",
      "source": [
        ""
      ],
      "metadata": {
        "id": "eYfDtnxDBe37"
      },
      "id": "eYfDtnxDBe37",
      "execution_count": null,
      "outputs": []
    }
  ],
  "metadata": {
    "kernelspec": {
      "display_name": "Python 3 (ipykernel)",
      "language": "python",
      "name": "python3"
    },
    "language_info": {
      "codemirror_mode": {
        "name": "ipython",
        "version": 3
      },
      "file_extension": ".py",
      "mimetype": "text/x-python",
      "name": "python",
      "nbconvert_exporter": "python",
      "pygments_lexer": "ipython3",
      "version": "3.8.12"
    },
    "colab": {
      "name": "M508_IndividualFinalProject_GH1019250.ipynb",
      "provenance": []
    }
  },
  "nbformat": 4,
  "nbformat_minor": 5
}